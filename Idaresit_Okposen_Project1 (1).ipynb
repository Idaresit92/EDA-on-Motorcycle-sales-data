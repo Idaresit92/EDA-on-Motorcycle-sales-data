{
 "cells": [
  {
   "cell_type": "markdown",
   "metadata": {
    "id": "vCb4NU3_cpfN"
   },
   "source": [
    "EXPLORATORY DATA ANALYSIS ON THE MOTORCYCLE SALES DATA OF COMPANY XYZ\n",
    "\n",
    "The challenge; \n",
    "\n",
    "1) what are the total sales for each payment method\n",
    "\n",
    "2) What is the average unit price for each product line?\n",
    "\n",
    "3) Create plots to visualize findings for question 1 and 2\n",
    "\n",
    "4) Optional: investigate further (e.g average purchase value by client type, total purchase value by product line)\n",
    "\n",
    "5) Summarize your findings"
   ]
  },
  {
   "cell_type": "code",
   "execution_count": 23,
   "metadata": {
    "id": "6Hg5EkxY9gpX"
   },
   "outputs": [],
   "source": [
    "import pandas as pd\n",
    "import numpy as np\n",
    "import matplotlib.pyplot as plt\n",
    "import seaborn as sns\n",
    "sns.set_style('whitegrid')\n",
    "from datetime import datetime\n",
    "import dateutil.parser"
   ]
  },
  {
   "cell_type": "code",
   "execution_count": 24,
   "metadata": {
    "colab": {
     "base_uri": "https://localhost:8080/",
     "height": 424
    },
    "id": "k-xvKY96-NUg",
    "outputId": "b1cdc5b5-4c1e-4776-d02d-4abf909930a7"
   },
   "outputs": [
    {
     "data": {
      "text/html": [
       "<div>\n",
       "<style scoped>\n",
       "    .dataframe tbody tr th:only-of-type {\n",
       "        vertical-align: middle;\n",
       "    }\n",
       "\n",
       "    .dataframe tbody tr th {\n",
       "        vertical-align: top;\n",
       "    }\n",
       "\n",
       "    .dataframe thead th {\n",
       "        text-align: right;\n",
       "    }\n",
       "</style>\n",
       "<table border=\"1\" class=\"dataframe\">\n",
       "  <thead>\n",
       "    <tr style=\"text-align: right;\">\n",
       "      <th></th>\n",
       "      <th>date</th>\n",
       "      <th>warehouse</th>\n",
       "      <th>client_type</th>\n",
       "      <th>product_line</th>\n",
       "      <th>quantity</th>\n",
       "      <th>unit_price</th>\n",
       "      <th>total</th>\n",
       "      <th>payment</th>\n",
       "    </tr>\n",
       "  </thead>\n",
       "  <tbody>\n",
       "    <tr>\n",
       "      <th>0</th>\n",
       "      <td>2021-06-01</td>\n",
       "      <td>Central</td>\n",
       "      <td>Retail</td>\n",
       "      <td>Miscellaneous</td>\n",
       "      <td>8</td>\n",
       "      <td>16.85</td>\n",
       "      <td>134.83</td>\n",
       "      <td>Credit card</td>\n",
       "    </tr>\n",
       "    <tr>\n",
       "      <th>1</th>\n",
       "      <td>2021-06-01</td>\n",
       "      <td>North</td>\n",
       "      <td>Retail</td>\n",
       "      <td>Breaking system</td>\n",
       "      <td>9</td>\n",
       "      <td>19.29</td>\n",
       "      <td>173.61</td>\n",
       "      <td>Cash</td>\n",
       "    </tr>\n",
       "    <tr>\n",
       "      <th>2</th>\n",
       "      <td>2021-06-01</td>\n",
       "      <td>North</td>\n",
       "      <td>Retail</td>\n",
       "      <td>Suspension &amp; traction</td>\n",
       "      <td>8</td>\n",
       "      <td>32.93</td>\n",
       "      <td>263.45</td>\n",
       "      <td>Credit card</td>\n",
       "    </tr>\n",
       "    <tr>\n",
       "      <th>3</th>\n",
       "      <td>2021-06-01</td>\n",
       "      <td>North</td>\n",
       "      <td>Wholesale</td>\n",
       "      <td>Frame &amp; body</td>\n",
       "      <td>16</td>\n",
       "      <td>37.84</td>\n",
       "      <td>605.44</td>\n",
       "      <td>Transfer</td>\n",
       "    </tr>\n",
       "    <tr>\n",
       "      <th>4</th>\n",
       "      <td>2021-06-01</td>\n",
       "      <td>Central</td>\n",
       "      <td>Retail</td>\n",
       "      <td>Engine</td>\n",
       "      <td>2</td>\n",
       "      <td>60.48</td>\n",
       "      <td>120.96</td>\n",
       "      <td>Credit card</td>\n",
       "    </tr>\n",
       "    <tr>\n",
       "      <th>...</th>\n",
       "      <td>...</td>\n",
       "      <td>...</td>\n",
       "      <td>...</td>\n",
       "      <td>...</td>\n",
       "      <td>...</td>\n",
       "      <td>...</td>\n",
       "      <td>...</td>\n",
       "      <td>...</td>\n",
       "    </tr>\n",
       "    <tr>\n",
       "      <th>995</th>\n",
       "      <td>2021-08-28</td>\n",
       "      <td>Central</td>\n",
       "      <td>Retail</td>\n",
       "      <td>Electrical system</td>\n",
       "      <td>9</td>\n",
       "      <td>32.87</td>\n",
       "      <td>295.83</td>\n",
       "      <td>Credit card</td>\n",
       "    </tr>\n",
       "    <tr>\n",
       "      <th>996</th>\n",
       "      <td>2021-08-28</td>\n",
       "      <td>West</td>\n",
       "      <td>Wholesale</td>\n",
       "      <td>Breaking system</td>\n",
       "      <td>32</td>\n",
       "      <td>10.03</td>\n",
       "      <td>320.96</td>\n",
       "      <td>Transfer</td>\n",
       "    </tr>\n",
       "    <tr>\n",
       "      <th>997</th>\n",
       "      <td>2021-08-28</td>\n",
       "      <td>West</td>\n",
       "      <td>Wholesale</td>\n",
       "      <td>Electrical system</td>\n",
       "      <td>12</td>\n",
       "      <td>32.80</td>\n",
       "      <td>393.64</td>\n",
       "      <td>Transfer</td>\n",
       "    </tr>\n",
       "    <tr>\n",
       "      <th>998</th>\n",
       "      <td>2021-08-28</td>\n",
       "      <td>North</td>\n",
       "      <td>Retail</td>\n",
       "      <td>Frame &amp; body</td>\n",
       "      <td>5</td>\n",
       "      <td>48.25</td>\n",
       "      <td>241.23</td>\n",
       "      <td>Cash</td>\n",
       "    </tr>\n",
       "    <tr>\n",
       "      <th>999</th>\n",
       "      <td>2021-08-28</td>\n",
       "      <td>North</td>\n",
       "      <td>Wholesale</td>\n",
       "      <td>Electrical system</td>\n",
       "      <td>20</td>\n",
       "      <td>27.41</td>\n",
       "      <td>548.13</td>\n",
       "      <td>Transfer</td>\n",
       "    </tr>\n",
       "  </tbody>\n",
       "</table>\n",
       "<p>1000 rows × 8 columns</p>\n",
       "</div>"
      ],
      "text/plain": [
       "          date warehouse client_type           product_line  quantity  \\\n",
       "0   2021-06-01   Central      Retail          Miscellaneous         8   \n",
       "1   2021-06-01     North      Retail        Breaking system         9   \n",
       "2   2021-06-01     North      Retail  Suspension & traction         8   \n",
       "3   2021-06-01     North   Wholesale           Frame & body        16   \n",
       "4   2021-06-01   Central      Retail                 Engine         2   \n",
       "..         ...       ...         ...                    ...       ...   \n",
       "995 2021-08-28   Central      Retail      Electrical system         9   \n",
       "996 2021-08-28      West   Wholesale        Breaking system        32   \n",
       "997 2021-08-28      West   Wholesale      Electrical system        12   \n",
       "998 2021-08-28     North      Retail           Frame & body         5   \n",
       "999 2021-08-28     North   Wholesale      Electrical system        20   \n",
       "\n",
       "     unit_price   total      payment  \n",
       "0         16.85  134.83  Credit card  \n",
       "1         19.29  173.61         Cash  \n",
       "2         32.93  263.45  Credit card  \n",
       "3         37.84  605.44     Transfer  \n",
       "4         60.48  120.96  Credit card  \n",
       "..          ...     ...          ...  \n",
       "995       32.87  295.83  Credit card  \n",
       "996       10.03  320.96     Transfer  \n",
       "997       32.80  393.64     Transfer  \n",
       "998       48.25  241.23         Cash  \n",
       "999       27.41  548.13     Transfer  \n",
       "\n",
       "[1000 rows x 8 columns]"
      ]
     },
     "execution_count": 24,
     "metadata": {},
     "output_type": "execute_result"
    }
   ],
   "source": [
    "salesdata = pd.read_excel(r'C:\\Users\\H- -C\\salesdata.xlsx')\n",
    "salesdata"
   ]
  },
  {
   "cell_type": "code",
   "execution_count": 17,
   "metadata": {
    "colab": {
     "base_uri": "https://localhost:8080/"
    },
    "id": "BFSo84Kw_Kj3",
    "outputId": "03442b0f-0f3e-400a-c15d-5a89f0c2c72c"
   },
   "outputs": [
    {
     "name": "stdout",
     "output_type": "stream",
     "text": [
      "<class 'pandas.core.frame.DataFrame'>\n",
      "RangeIndex: 1000 entries, 0 to 999\n",
      "Data columns (total 8 columns):\n",
      " #   Column        Non-Null Count  Dtype         \n",
      "---  ------        --------------  -----         \n",
      " 0   date          1000 non-null   datetime64[ns]\n",
      " 1   warehouse     1000 non-null   object        \n",
      " 2   client_type   1000 non-null   object        \n",
      " 3   product_line  1000 non-null   object        \n",
      " 4   quantity      1000 non-null   int64         \n",
      " 5   unit_price    1000 non-null   float64       \n",
      " 6   total         1000 non-null   float64       \n",
      " 7   payment       1000 non-null   object        \n",
      "dtypes: datetime64[ns](1), float64(2), int64(1), object(4)\n",
      "memory usage: 62.6+ KB\n"
     ]
    }
   ],
   "source": [
    "#Checking the datatype for each column\n",
    "salesdata.info()"
   ]
  },
  {
   "cell_type": "markdown",
   "metadata": {
    "id": "ZPkxiSNY_jYz"
   },
   "source": [
    "Above information shows that all the columns are in the right data type format."
   ]
  },
  {
   "cell_type": "code",
   "execution_count": null,
   "metadata": {
    "colab": {
     "base_uri": "https://localhost:8080/"
    },
    "id": "rL32paF2_yUW",
    "outputId": "94ab4760-2d1a-4a81-814f-0f88c0beca01"
   },
   "outputs": [
    {
     "data": {
      "text/plain": [
       "date            0\n",
       "warehouse       0\n",
       "client_type     0\n",
       "product_line    0\n",
       "quantity        0\n",
       "unit_price      0\n",
       "total           0\n",
       "payment         0\n",
       "dtype: int64"
      ]
     },
     "execution_count": 10,
     "metadata": {},
     "output_type": "execute_result"
    }
   ],
   "source": [
    "#Checking for missing values in the dataset\n",
    "salesdata.isnull().sum()"
   ]
  },
  {
   "cell_type": "code",
   "execution_count": null,
   "metadata": {
    "colab": {
     "base_uri": "https://localhost:8080/",
     "height": 49
    },
    "id": "xWDstkYfeX_G",
    "outputId": "29365127-d409-40d1-cd7e-e186ff4a94d9"
   },
   "outputs": [
    {
     "data": {
      "text/html": [
       "\n",
       "  <div id=\"df-c41993ec-9d33-46d3-8b33-754a6e6b4bff\">\n",
       "    <div class=\"colab-df-container\">\n",
       "      <div>\n",
       "<style scoped>\n",
       "    .dataframe tbody tr th:only-of-type {\n",
       "        vertical-align: middle;\n",
       "    }\n",
       "\n",
       "    .dataframe tbody tr th {\n",
       "        vertical-align: top;\n",
       "    }\n",
       "\n",
       "    .dataframe thead th {\n",
       "        text-align: right;\n",
       "    }\n",
       "</style>\n",
       "<table border=\"1\" class=\"dataframe\">\n",
       "  <thead>\n",
       "    <tr style=\"text-align: right;\">\n",
       "      <th></th>\n",
       "      <th>date</th>\n",
       "      <th>warehouse</th>\n",
       "      <th>client_type</th>\n",
       "      <th>product_line</th>\n",
       "      <th>quantity</th>\n",
       "      <th>unit_price</th>\n",
       "      <th>total</th>\n",
       "      <th>payment</th>\n",
       "    </tr>\n",
       "  </thead>\n",
       "  <tbody>\n",
       "  </tbody>\n",
       "</table>\n",
       "</div>\n",
       "      <button class=\"colab-df-convert\" onclick=\"convertToInteractive('df-c41993ec-9d33-46d3-8b33-754a6e6b4bff')\"\n",
       "              title=\"Convert this dataframe to an interactive table.\"\n",
       "              style=\"display:none;\">\n",
       "        \n",
       "  <svg xmlns=\"http://www.w3.org/2000/svg\" height=\"24px\"viewBox=\"0 0 24 24\"\n",
       "       width=\"24px\">\n",
       "    <path d=\"M0 0h24v24H0V0z\" fill=\"none\"/>\n",
       "    <path d=\"M18.56 5.44l.94 2.06.94-2.06 2.06-.94-2.06-.94-.94-2.06-.94 2.06-2.06.94zm-11 1L8.5 8.5l.94-2.06 2.06-.94-2.06-.94L8.5 2.5l-.94 2.06-2.06.94zm10 10l.94 2.06.94-2.06 2.06-.94-2.06-.94-.94-2.06-.94 2.06-2.06.94z\"/><path d=\"M17.41 7.96l-1.37-1.37c-.4-.4-.92-.59-1.43-.59-.52 0-1.04.2-1.43.59L10.3 9.45l-7.72 7.72c-.78.78-.78 2.05 0 2.83L4 21.41c.39.39.9.59 1.41.59.51 0 1.02-.2 1.41-.59l7.78-7.78 2.81-2.81c.8-.78.8-2.07 0-2.86zM5.41 20L4 18.59l7.72-7.72 1.47 1.35L5.41 20z\"/>\n",
       "  </svg>\n",
       "      </button>\n",
       "      \n",
       "  <style>\n",
       "    .colab-df-container {\n",
       "      display:flex;\n",
       "      flex-wrap:wrap;\n",
       "      gap: 12px;\n",
       "    }\n",
       "\n",
       "    .colab-df-convert {\n",
       "      background-color: #E8F0FE;\n",
       "      border: none;\n",
       "      border-radius: 50%;\n",
       "      cursor: pointer;\n",
       "      display: none;\n",
       "      fill: #1967D2;\n",
       "      height: 32px;\n",
       "      padding: 0 0 0 0;\n",
       "      width: 32px;\n",
       "    }\n",
       "\n",
       "    .colab-df-convert:hover {\n",
       "      background-color: #E2EBFA;\n",
       "      box-shadow: 0px 1px 2px rgba(60, 64, 67, 0.3), 0px 1px 3px 1px rgba(60, 64, 67, 0.15);\n",
       "      fill: #174EA6;\n",
       "    }\n",
       "\n",
       "    [theme=dark] .colab-df-convert {\n",
       "      background-color: #3B4455;\n",
       "      fill: #D2E3FC;\n",
       "    }\n",
       "\n",
       "    [theme=dark] .colab-df-convert:hover {\n",
       "      background-color: #434B5C;\n",
       "      box-shadow: 0px 1px 3px 1px rgba(0, 0, 0, 0.15);\n",
       "      filter: drop-shadow(0px 1px 2px rgba(0, 0, 0, 0.3));\n",
       "      fill: #FFFFFF;\n",
       "    }\n",
       "  </style>\n",
       "\n",
       "      <script>\n",
       "        const buttonEl =\n",
       "          document.querySelector('#df-c41993ec-9d33-46d3-8b33-754a6e6b4bff button.colab-df-convert');\n",
       "        buttonEl.style.display =\n",
       "          google.colab.kernel.accessAllowed ? 'block' : 'none';\n",
       "\n",
       "        async function convertToInteractive(key) {\n",
       "          const element = document.querySelector('#df-c41993ec-9d33-46d3-8b33-754a6e6b4bff');\n",
       "          const dataTable =\n",
       "            await google.colab.kernel.invokeFunction('convertToInteractive',\n",
       "                                                     [key], {});\n",
       "          if (!dataTable) return;\n",
       "\n",
       "          const docLinkHtml = 'Like what you see? Visit the ' +\n",
       "            '<a target=\"_blank\" href=https://colab.research.google.com/notebooks/data_table.ipynb>data table notebook</a>'\n",
       "            + ' to learn more about interactive tables.';\n",
       "          element.innerHTML = '';\n",
       "          dataTable['output_type'] = 'display_data';\n",
       "          await google.colab.output.renderOutput(dataTable, element);\n",
       "          const docLink = document.createElement('div');\n",
       "          docLink.innerHTML = docLinkHtml;\n",
       "          element.appendChild(docLink);\n",
       "        }\n",
       "      </script>\n",
       "    </div>\n",
       "  </div>\n",
       "  "
      ],
      "text/plain": [
       "Empty DataFrame\n",
       "Columns: [date, warehouse, client_type, product_line, quantity, unit_price, total, payment]\n",
       "Index: []"
      ]
     },
     "execution_count": 5,
     "metadata": {},
     "output_type": "execute_result"
    }
   ],
   "source": [
    "#Checking for duplicates\n",
    "salesdata[salesdata.duplicated()]"
   ]
  },
  {
   "cell_type": "markdown",
   "metadata": {
    "id": "gyNTKVw9e8BB"
   },
   "source": [
    "Observations\n",
    "\n",
    "- The dataset has 1000 rows and 8 columns\n",
    "- There are no missing values and duplicates\n",
    "- The dataset is clean and ready to use for analysis"
   ]
  },
  {
   "cell_type": "code",
   "execution_count": null,
   "metadata": {
    "colab": {
     "base_uri": "https://localhost:8080/",
     "height": 300
    },
    "id": "db2GuP-ZABYB",
    "outputId": "9dcb713e-33ec-4f9a-9ac4-0684a987d94f"
   },
   "outputs": [
    {
     "data": {
      "text/html": [
       "\n",
       "  <div id=\"df-68237dc9-80dc-4042-9dab-5e0fbba221ca\">\n",
       "    <div class=\"colab-df-container\">\n",
       "      <div>\n",
       "<style scoped>\n",
       "    .dataframe tbody tr th:only-of-type {\n",
       "        vertical-align: middle;\n",
       "    }\n",
       "\n",
       "    .dataframe tbody tr th {\n",
       "        vertical-align: top;\n",
       "    }\n",
       "\n",
       "    .dataframe thead th {\n",
       "        text-align: right;\n",
       "    }\n",
       "</style>\n",
       "<table border=\"1\" class=\"dataframe\">\n",
       "  <thead>\n",
       "    <tr style=\"text-align: right;\">\n",
       "      <th></th>\n",
       "      <th>quantity</th>\n",
       "      <th>unit_price</th>\n",
       "      <th>total</th>\n",
       "    </tr>\n",
       "  </thead>\n",
       "  <tbody>\n",
       "    <tr>\n",
       "      <th>count</th>\n",
       "      <td>1000.000000</td>\n",
       "      <td>1000.000000</td>\n",
       "      <td>1000.000000</td>\n",
       "    </tr>\n",
       "    <tr>\n",
       "      <th>mean</th>\n",
       "      <td>9.395000</td>\n",
       "      <td>30.322040</td>\n",
       "      <td>289.113000</td>\n",
       "    </tr>\n",
       "    <tr>\n",
       "      <th>std</th>\n",
       "      <td>9.659207</td>\n",
       "      <td>12.256488</td>\n",
       "      <td>345.227596</td>\n",
       "    </tr>\n",
       "    <tr>\n",
       "      <th>min</th>\n",
       "      <td>1.000000</td>\n",
       "      <td>10.030000</td>\n",
       "      <td>10.350000</td>\n",
       "    </tr>\n",
       "    <tr>\n",
       "      <th>25%</th>\n",
       "      <td>4.000000</td>\n",
       "      <td>21.085000</td>\n",
       "      <td>93.687500</td>\n",
       "    </tr>\n",
       "    <tr>\n",
       "      <th>50%</th>\n",
       "      <td>6.500000</td>\n",
       "      <td>28.570000</td>\n",
       "      <td>178.360000</td>\n",
       "    </tr>\n",
       "    <tr>\n",
       "      <th>75%</th>\n",
       "      <td>10.000000</td>\n",
       "      <td>37.917500</td>\n",
       "      <td>321.690000</td>\n",
       "    </tr>\n",
       "    <tr>\n",
       "      <th>max</th>\n",
       "      <td>40.000000</td>\n",
       "      <td>66.620000</td>\n",
       "      <td>2546.330000</td>\n",
       "    </tr>\n",
       "  </tbody>\n",
       "</table>\n",
       "</div>\n",
       "      <button class=\"colab-df-convert\" onclick=\"convertToInteractive('df-68237dc9-80dc-4042-9dab-5e0fbba221ca')\"\n",
       "              title=\"Convert this dataframe to an interactive table.\"\n",
       "              style=\"display:none;\">\n",
       "        \n",
       "  <svg xmlns=\"http://www.w3.org/2000/svg\" height=\"24px\"viewBox=\"0 0 24 24\"\n",
       "       width=\"24px\">\n",
       "    <path d=\"M0 0h24v24H0V0z\" fill=\"none\"/>\n",
       "    <path d=\"M18.56 5.44l.94 2.06.94-2.06 2.06-.94-2.06-.94-.94-2.06-.94 2.06-2.06.94zm-11 1L8.5 8.5l.94-2.06 2.06-.94-2.06-.94L8.5 2.5l-.94 2.06-2.06.94zm10 10l.94 2.06.94-2.06 2.06-.94-2.06-.94-.94-2.06-.94 2.06-2.06.94z\"/><path d=\"M17.41 7.96l-1.37-1.37c-.4-.4-.92-.59-1.43-.59-.52 0-1.04.2-1.43.59L10.3 9.45l-7.72 7.72c-.78.78-.78 2.05 0 2.83L4 21.41c.39.39.9.59 1.41.59.51 0 1.02-.2 1.41-.59l7.78-7.78 2.81-2.81c.8-.78.8-2.07 0-2.86zM5.41 20L4 18.59l7.72-7.72 1.47 1.35L5.41 20z\"/>\n",
       "  </svg>\n",
       "      </button>\n",
       "      \n",
       "  <style>\n",
       "    .colab-df-container {\n",
       "      display:flex;\n",
       "      flex-wrap:wrap;\n",
       "      gap: 12px;\n",
       "    }\n",
       "\n",
       "    .colab-df-convert {\n",
       "      background-color: #E8F0FE;\n",
       "      border: none;\n",
       "      border-radius: 50%;\n",
       "      cursor: pointer;\n",
       "      display: none;\n",
       "      fill: #1967D2;\n",
       "      height: 32px;\n",
       "      padding: 0 0 0 0;\n",
       "      width: 32px;\n",
       "    }\n",
       "\n",
       "    .colab-df-convert:hover {\n",
       "      background-color: #E2EBFA;\n",
       "      box-shadow: 0px 1px 2px rgba(60, 64, 67, 0.3), 0px 1px 3px 1px rgba(60, 64, 67, 0.15);\n",
       "      fill: #174EA6;\n",
       "    }\n",
       "\n",
       "    [theme=dark] .colab-df-convert {\n",
       "      background-color: #3B4455;\n",
       "      fill: #D2E3FC;\n",
       "    }\n",
       "\n",
       "    [theme=dark] .colab-df-convert:hover {\n",
       "      background-color: #434B5C;\n",
       "      box-shadow: 0px 1px 3px 1px rgba(0, 0, 0, 0.15);\n",
       "      filter: drop-shadow(0px 1px 2px rgba(0, 0, 0, 0.3));\n",
       "      fill: #FFFFFF;\n",
       "    }\n",
       "  </style>\n",
       "\n",
       "      <script>\n",
       "        const buttonEl =\n",
       "          document.querySelector('#df-68237dc9-80dc-4042-9dab-5e0fbba221ca button.colab-df-convert');\n",
       "        buttonEl.style.display =\n",
       "          google.colab.kernel.accessAllowed ? 'block' : 'none';\n",
       "\n",
       "        async function convertToInteractive(key) {\n",
       "          const element = document.querySelector('#df-68237dc9-80dc-4042-9dab-5e0fbba221ca');\n",
       "          const dataTable =\n",
       "            await google.colab.kernel.invokeFunction('convertToInteractive',\n",
       "                                                     [key], {});\n",
       "          if (!dataTable) return;\n",
       "\n",
       "          const docLinkHtml = 'Like what you see? Visit the ' +\n",
       "            '<a target=\"_blank\" href=https://colab.research.google.com/notebooks/data_table.ipynb>data table notebook</a>'\n",
       "            + ' to learn more about interactive tables.';\n",
       "          element.innerHTML = '';\n",
       "          dataTable['output_type'] = 'display_data';\n",
       "          await google.colab.output.renderOutput(dataTable, element);\n",
       "          const docLink = document.createElement('div');\n",
       "          docLink.innerHTML = docLinkHtml;\n",
       "          element.appendChild(docLink);\n",
       "        }\n",
       "      </script>\n",
       "    </div>\n",
       "  </div>\n",
       "  "
      ],
      "text/plain": [
       "          quantity   unit_price        total\n",
       "count  1000.000000  1000.000000  1000.000000\n",
       "mean      9.395000    30.322040   289.113000\n",
       "std       9.659207    12.256488   345.227596\n",
       "min       1.000000    10.030000    10.350000\n",
       "25%       4.000000    21.085000    93.687500\n",
       "50%       6.500000    28.570000   178.360000\n",
       "75%      10.000000    37.917500   321.690000\n",
       "max      40.000000    66.620000  2546.330000"
      ]
     },
     "execution_count": 11,
     "metadata": {},
     "output_type": "execute_result"
    }
   ],
   "source": [
    "#Checking the statiscal summary of the numerical columns; Quantity, Unitprice, Total\n",
    "salesdata.describe()"
   ]
  },
  {
   "cell_type": "code",
   "execution_count": null,
   "metadata": {
    "colab": {
     "base_uri": "https://localhost:8080/",
     "height": 175
    },
    "id": "ASHfbsYqftsr",
    "outputId": "3526c3b9-0507-43b0-92e6-33221e4f0b6e"
   },
   "outputs": [
    {
     "data": {
      "text/html": [
       "\n",
       "  <div id=\"df-a3db6b7e-a441-4986-854d-46319b8fe25d\">\n",
       "    <div class=\"colab-df-container\">\n",
       "      <div>\n",
       "<style scoped>\n",
       "    .dataframe tbody tr th:only-of-type {\n",
       "        vertical-align: middle;\n",
       "    }\n",
       "\n",
       "    .dataframe tbody tr th {\n",
       "        vertical-align: top;\n",
       "    }\n",
       "\n",
       "    .dataframe thead th {\n",
       "        text-align: right;\n",
       "    }\n",
       "</style>\n",
       "<table border=\"1\" class=\"dataframe\">\n",
       "  <thead>\n",
       "    <tr style=\"text-align: right;\">\n",
       "      <th></th>\n",
       "      <th>warehouse</th>\n",
       "      <th>client_type</th>\n",
       "      <th>product_line</th>\n",
       "      <th>payment</th>\n",
       "    </tr>\n",
       "  </thead>\n",
       "  <tbody>\n",
       "    <tr>\n",
       "      <th>count</th>\n",
       "      <td>1000</td>\n",
       "      <td>1000</td>\n",
       "      <td>1000</td>\n",
       "      <td>1000</td>\n",
       "    </tr>\n",
       "    <tr>\n",
       "      <th>unique</th>\n",
       "      <td>3</td>\n",
       "      <td>2</td>\n",
       "      <td>6</td>\n",
       "      <td>3</td>\n",
       "    </tr>\n",
       "    <tr>\n",
       "      <th>top</th>\n",
       "      <td>Central</td>\n",
       "      <td>Retail</td>\n",
       "      <td>Breaking system</td>\n",
       "      <td>Credit card</td>\n",
       "    </tr>\n",
       "    <tr>\n",
       "      <th>freq</th>\n",
       "      <td>480</td>\n",
       "      <td>775</td>\n",
       "      <td>230</td>\n",
       "      <td>659</td>\n",
       "    </tr>\n",
       "  </tbody>\n",
       "</table>\n",
       "</div>\n",
       "      <button class=\"colab-df-convert\" onclick=\"convertToInteractive('df-a3db6b7e-a441-4986-854d-46319b8fe25d')\"\n",
       "              title=\"Convert this dataframe to an interactive table.\"\n",
       "              style=\"display:none;\">\n",
       "        \n",
       "  <svg xmlns=\"http://www.w3.org/2000/svg\" height=\"24px\"viewBox=\"0 0 24 24\"\n",
       "       width=\"24px\">\n",
       "    <path d=\"M0 0h24v24H0V0z\" fill=\"none\"/>\n",
       "    <path d=\"M18.56 5.44l.94 2.06.94-2.06 2.06-.94-2.06-.94-.94-2.06-.94 2.06-2.06.94zm-11 1L8.5 8.5l.94-2.06 2.06-.94-2.06-.94L8.5 2.5l-.94 2.06-2.06.94zm10 10l.94 2.06.94-2.06 2.06-.94-2.06-.94-.94-2.06-.94 2.06-2.06.94z\"/><path d=\"M17.41 7.96l-1.37-1.37c-.4-.4-.92-.59-1.43-.59-.52 0-1.04.2-1.43.59L10.3 9.45l-7.72 7.72c-.78.78-.78 2.05 0 2.83L4 21.41c.39.39.9.59 1.41.59.51 0 1.02-.2 1.41-.59l7.78-7.78 2.81-2.81c.8-.78.8-2.07 0-2.86zM5.41 20L4 18.59l7.72-7.72 1.47 1.35L5.41 20z\"/>\n",
       "  </svg>\n",
       "      </button>\n",
       "      \n",
       "  <style>\n",
       "    .colab-df-container {\n",
       "      display:flex;\n",
       "      flex-wrap:wrap;\n",
       "      gap: 12px;\n",
       "    }\n",
       "\n",
       "    .colab-df-convert {\n",
       "      background-color: #E8F0FE;\n",
       "      border: none;\n",
       "      border-radius: 50%;\n",
       "      cursor: pointer;\n",
       "      display: none;\n",
       "      fill: #1967D2;\n",
       "      height: 32px;\n",
       "      padding: 0 0 0 0;\n",
       "      width: 32px;\n",
       "    }\n",
       "\n",
       "    .colab-df-convert:hover {\n",
       "      background-color: #E2EBFA;\n",
       "      box-shadow: 0px 1px 2px rgba(60, 64, 67, 0.3), 0px 1px 3px 1px rgba(60, 64, 67, 0.15);\n",
       "      fill: #174EA6;\n",
       "    }\n",
       "\n",
       "    [theme=dark] .colab-df-convert {\n",
       "      background-color: #3B4455;\n",
       "      fill: #D2E3FC;\n",
       "    }\n",
       "\n",
       "    [theme=dark] .colab-df-convert:hover {\n",
       "      background-color: #434B5C;\n",
       "      box-shadow: 0px 1px 3px 1px rgba(0, 0, 0, 0.15);\n",
       "      filter: drop-shadow(0px 1px 2px rgba(0, 0, 0, 0.3));\n",
       "      fill: #FFFFFF;\n",
       "    }\n",
       "  </style>\n",
       "\n",
       "      <script>\n",
       "        const buttonEl =\n",
       "          document.querySelector('#df-a3db6b7e-a441-4986-854d-46319b8fe25d button.colab-df-convert');\n",
       "        buttonEl.style.display =\n",
       "          google.colab.kernel.accessAllowed ? 'block' : 'none';\n",
       "\n",
       "        async function convertToInteractive(key) {\n",
       "          const element = document.querySelector('#df-a3db6b7e-a441-4986-854d-46319b8fe25d');\n",
       "          const dataTable =\n",
       "            await google.colab.kernel.invokeFunction('convertToInteractive',\n",
       "                                                     [key], {});\n",
       "          if (!dataTable) return;\n",
       "\n",
       "          const docLinkHtml = 'Like what you see? Visit the ' +\n",
       "            '<a target=\"_blank\" href=https://colab.research.google.com/notebooks/data_table.ipynb>data table notebook</a>'\n",
       "            + ' to learn more about interactive tables.';\n",
       "          element.innerHTML = '';\n",
       "          dataTable['output_type'] = 'display_data';\n",
       "          await google.colab.output.renderOutput(dataTable, element);\n",
       "          const docLink = document.createElement('div');\n",
       "          docLink.innerHTML = docLinkHtml;\n",
       "          element.appendChild(docLink);\n",
       "        }\n",
       "      </script>\n",
       "    </div>\n",
       "  </div>\n",
       "  "
      ],
      "text/plain": [
       "       warehouse client_type     product_line      payment\n",
       "count       1000        1000             1000         1000\n",
       "unique         3           2                6            3\n",
       "top      Central      Retail  Breaking system  Credit card\n",
       "freq         480         775              230          659"
      ]
     },
     "execution_count": 7,
     "metadata": {},
     "output_type": "execute_result"
    }
   ],
   "source": [
    "#I also be checking the summary of the categorical data \n",
    "df = salesdata.dtypes[salesdata.dtypes == 'object'].index\n",
    "salesdata[df].describe()"
   ]
  },
  {
   "cell_type": "markdown",
   "metadata": {
    "id": "-rQlEVErhIDp"
   },
   "source": [
    "Above 2 tables shows a summary of the numerical and categorical columns. \n",
    "\n",
    "- There are 3 unique warehouses, 2 unique client type, 6 unique product line and 3 umique payment methods\n",
    "- The most frequent client type is the retail, the most frequently used payment method is the credit card, the most used warehouse is central and the most purchased product_line is Breaking system\n"
   ]
  },
  {
   "cell_type": "code",
   "execution_count": null,
   "metadata": {
    "colab": {
     "base_uri": "https://localhost:8080/"
    },
    "id": "2sFwSj_Bhe-e",
    "outputId": "0b3c2c38-03c3-4479-ed8b-7fdf8fb6fd0a"
   },
   "outputs": [
    {
     "data": {
      "text/plain": [
       "array(['Central', 'North', 'West'], dtype=object)"
      ]
     },
     "execution_count": 8,
     "metadata": {},
     "output_type": "execute_result"
    }
   ],
   "source": [
    "#checking the unique values for the warehouse\n",
    "salesdata.warehouse.unique()"
   ]
  },
  {
   "cell_type": "code",
   "execution_count": null,
   "metadata": {
    "colab": {
     "base_uri": "https://localhost:8080/"
    },
    "id": "_eJbklMkiSdk",
    "outputId": "96dc6c6e-fbf5-4029-f5d4-f76523714767"
   },
   "outputs": [
    {
     "data": {
      "text/plain": [
       "array(['Retail', 'Wholesale'], dtype=object)"
      ]
     },
     "execution_count": 9,
     "metadata": {},
     "output_type": "execute_result"
    }
   ],
   "source": [
    "#checking the unique values for the clienttype\n",
    "salesdata.client_type.unique()"
   ]
  },
  {
   "cell_type": "code",
   "execution_count": null,
   "metadata": {
    "colab": {
     "base_uri": "https://localhost:8080/"
    },
    "id": "9id8EZeHigNX",
    "outputId": "95f40da5-0984-4063-ac62-9a2ce47a839e"
   },
   "outputs": [
    {
     "data": {
      "text/plain": [
       "array(['Miscellaneous', 'Breaking system', 'Suspension & traction',\n",
       "       'Frame & body', 'Engine', 'Electrical system'], dtype=object)"
      ]
     },
     "execution_count": 10,
     "metadata": {},
     "output_type": "execute_result"
    }
   ],
   "source": [
    "#checking the unique values for the product line\n",
    "salesdata.product_line.unique()"
   ]
  },
  {
   "cell_type": "code",
   "execution_count": null,
   "metadata": {
    "colab": {
     "base_uri": "https://localhost:8080/"
    },
    "id": "v1U2upIgiqTM",
    "outputId": "74acc879-5a56-4617-a37d-1ba457f214ea"
   },
   "outputs": [
    {
     "data": {
      "text/plain": [
       "array(['Credit card', 'Cash', 'Transfer'], dtype=object)"
      ]
     },
     "execution_count": 11,
     "metadata": {},
     "output_type": "execute_result"
    }
   ],
   "source": [
    "#checking the unique values for the payment methods\n",
    "salesdata.payment.unique()"
   ]
  },
  {
   "cell_type": "code",
   "execution_count": 25,
   "metadata": {
    "colab": {
     "base_uri": "https://localhost:8080/",
     "height": 143
    },
    "id": "VpbAVAN4BHu5",
    "outputId": "2dc8dd15-2be0-490a-c9d4-72bae191b9ba"
   },
   "outputs": [
    {
     "data": {
      "text/html": [
       "<div>\n",
       "<style scoped>\n",
       "    .dataframe tbody tr th:only-of-type {\n",
       "        vertical-align: middle;\n",
       "    }\n",
       "\n",
       "    .dataframe tbody tr th {\n",
       "        vertical-align: top;\n",
       "    }\n",
       "\n",
       "    .dataframe thead th {\n",
       "        text-align: right;\n",
       "    }\n",
       "</style>\n",
       "<table border=\"1\" class=\"dataframe\">\n",
       "  <thead>\n",
       "    <tr style=\"text-align: right;\">\n",
       "      <th></th>\n",
       "      <th>payment</th>\n",
       "      <th>quantity</th>\n",
       "      <th>unit_price</th>\n",
       "      <th>total</th>\n",
       "    </tr>\n",
       "  </thead>\n",
       "  <tbody>\n",
       "    <tr>\n",
       "      <th>0</th>\n",
       "      <td>Cash</td>\n",
       "      <td>627</td>\n",
       "      <td>3479.98</td>\n",
       "      <td>19199.10</td>\n",
       "    </tr>\n",
       "    <tr>\n",
       "      <th>1</th>\n",
       "      <td>Credit card</td>\n",
       "      <td>3588</td>\n",
       "      <td>19992.33</td>\n",
       "      <td>110271.57</td>\n",
       "    </tr>\n",
       "    <tr>\n",
       "      <th>2</th>\n",
       "      <td>Transfer</td>\n",
       "      <td>5180</td>\n",
       "      <td>6849.73</td>\n",
       "      <td>159642.33</td>\n",
       "    </tr>\n",
       "  </tbody>\n",
       "</table>\n",
       "</div>"
      ],
      "text/plain": [
       "       payment  quantity  unit_price      total\n",
       "0         Cash       627     3479.98   19199.10\n",
       "1  Credit card      3588    19992.33  110271.57\n",
       "2     Transfer      5180     6849.73  159642.33"
      ]
     },
     "execution_count": 25,
     "metadata": {},
     "output_type": "execute_result"
    }
   ],
   "source": [
    "#Question 1 - Total sales per payment method\n",
    "tsppm = salesdata.groupby('payment', as_index=False).sum('total')\n",
    "tsppm"
   ]
  },
  {
   "cell_type": "code",
   "execution_count": 26,
   "metadata": {
    "colab": {
     "base_uri": "https://localhost:8080/",
     "height": 238
    },
    "id": "TR10PvziCeZ_",
    "outputId": "6481e764-349c-4c20-dedb-fc0d24c89a52"
   },
   "outputs": [
    {
     "data": {
      "text/html": [
       "<div>\n",
       "<style scoped>\n",
       "    .dataframe tbody tr th:only-of-type {\n",
       "        vertical-align: middle;\n",
       "    }\n",
       "\n",
       "    .dataframe tbody tr th {\n",
       "        vertical-align: top;\n",
       "    }\n",
       "\n",
       "    .dataframe thead th {\n",
       "        text-align: right;\n",
       "    }\n",
       "</style>\n",
       "<table border=\"1\" class=\"dataframe\">\n",
       "  <thead>\n",
       "    <tr style=\"text-align: right;\">\n",
       "      <th></th>\n",
       "      <th>product_line</th>\n",
       "      <th>quantity</th>\n",
       "      <th>unit_price</th>\n",
       "      <th>total</th>\n",
       "    </tr>\n",
       "  </thead>\n",
       "  <tbody>\n",
       "    <tr>\n",
       "      <th>0</th>\n",
       "      <td>Breaking system</td>\n",
       "      <td>9.260870</td>\n",
       "      <td>17.740522</td>\n",
       "      <td>166.739783</td>\n",
       "    </tr>\n",
       "    <tr>\n",
       "      <th>1</th>\n",
       "      <td>Electrical system</td>\n",
       "      <td>8.797927</td>\n",
       "      <td>25.585130</td>\n",
       "      <td>225.972591</td>\n",
       "    </tr>\n",
       "    <tr>\n",
       "      <th>2</th>\n",
       "      <td>Engine</td>\n",
       "      <td>10.278689</td>\n",
       "      <td>60.091803</td>\n",
       "      <td>622.055410</td>\n",
       "    </tr>\n",
       "    <tr>\n",
       "      <th>3</th>\n",
       "      <td>Frame &amp; body</td>\n",
       "      <td>9.753012</td>\n",
       "      <td>42.832229</td>\n",
       "      <td>415.811627</td>\n",
       "    </tr>\n",
       "    <tr>\n",
       "      <th>4</th>\n",
       "      <td>Miscellaneous</td>\n",
       "      <td>9.639344</td>\n",
       "      <td>22.810738</td>\n",
       "      <td>222.670656</td>\n",
       "    </tr>\n",
       "    <tr>\n",
       "      <th>5</th>\n",
       "      <td>Suspension &amp; traction</td>\n",
       "      <td>9.407895</td>\n",
       "      <td>33.969868</td>\n",
       "      <td>320.237763</td>\n",
       "    </tr>\n",
       "  </tbody>\n",
       "</table>\n",
       "</div>"
      ],
      "text/plain": [
       "            product_line   quantity  unit_price       total\n",
       "0        Breaking system   9.260870   17.740522  166.739783\n",
       "1      Electrical system   8.797927   25.585130  225.972591\n",
       "2                 Engine  10.278689   60.091803  622.055410\n",
       "3           Frame & body   9.753012   42.832229  415.811627\n",
       "4          Miscellaneous   9.639344   22.810738  222.670656\n",
       "5  Suspension & traction   9.407895   33.969868  320.237763"
      ]
     },
     "execution_count": 26,
     "metadata": {},
     "output_type": "execute_result"
    }
   ],
   "source": [
    "#Question 2 - Average unit price for each product line\n",
    "AUPPPL = salesdata.groupby('product_line', as_index=False).mean('unit_price')\n",
    "AUPPPL"
   ]
  },
  {
   "cell_type": "code",
   "execution_count": 27,
   "metadata": {
    "colab": {
     "base_uri": "https://localhost:8080/",
     "height": 499
    },
    "id": "HwYVQl--DCr9",
    "outputId": "7803546b-6ccb-49ab-e822-c65efdd3256f"
   },
   "outputs": [
    {
     "data": {
      "image/png": "[encoded data removed]",
      "text/plain": [
       "<Figure size 640x480 with 1 Axes>"
      ]
     },
     "metadata": {},
     "output_type": "display_data"
    }
   ],
   "source": [
    "#Question 3i - plot to visualize Question 1\n",
    "ax =sns.barplot(x='payment', y='total', data = tsppm, palette='rainbow')\n",
    "plt.xlabel('Payment', size=12, fontweight = 'bold')\n",
    "plt.ylabel('Total', size=12, fontweight = 'bold')\n",
    "plt.title('Total Sales by Payment Method', size=12, fontweight = 'bold')\n",
    "plt.show()"
   ]
  },
  {
   "cell_type": "code",
   "execution_count": 37,
   "metadata": {
    "colab": {
     "base_uri": "https://localhost:8080/",
     "height": 277
    },
    "id": "BBtKQ7oKs-oW",
    "outputId": "63d6095b-1de2-47bf-9985-9b3d93f8ecd5"
   },
   "outputs": [
    {
     "data": {
      "image/png": "[encoded data removed]",
      "text/plain": [
       "<Figure size 700x400 with 1 Axes>"
      ]
     },
     "metadata": {},
     "output_type": "display_data"
    }
   ],
   "source": [
    "fig = plt.figure(figsize =(7, 4))\n",
    "myexplode = (0,0,0.1)\n",
    "Payment = ['Cash', 'Credit card', 'Transfer']\n",
    "Total = [19199.10, 110271.57, 159642.33]\n",
    "plt.pie(Total, labels = Payment, explode = myexplode, autopct='%1.2f%%')\n",
    "plt.title('Total Sales by Payment Method', size=12, fontweight = 'bold')\n",
    "plt.show()"
   ]
  },
  {
   "cell_type": "code",
   "execution_count": null,
   "metadata": {
    "colab": {
     "base_uri": "https://localhost:8080/",
     "height": 298
    },
    "id": "jWwfLnk0FFIK",
    "outputId": "52901a5b-036b-4808-e820-d85609b873f6"
   },
   "outputs": [
    {
     "data": {
      "image/png": "[encoded data removed]",
      "text/plain": [
       "<Figure size 432x288 with 1 Axes>"
      ]
     },
     "metadata": {},
     "output_type": "display_data"
    }
   ],
   "source": [
    "#Question 3ii - plot to visualize Question 2\n",
    "sns.barplot(data = AUPPPL.sort_values('unit_price',ascending = False), x='unit_price', y='product_line', palette='Accent')\n",
    "plt.xlabel('Unit_Price', size=12, fontweight = 'bold')\n",
    "plt.ylabel('Product_Line', size=12, fontweight = 'bold')\n",
    "plt.title('Average Unit Price for each Product Line', size=12, fontweight = 'bold')\n",
    "plt.show()"
   ]
  },
  {
   "cell_type": "code",
   "execution_count": 38,
   "metadata": {
    "colab": {
     "base_uri": "https://localhost:8080/",
     "height": 112
    },
    "id": "FjKxgKBDGr8n",
    "outputId": "c2fad0e4-98a4-4079-cff7-0f13ecac13d2"
   },
   "outputs": [
    {
     "data": {
      "text/html": [
       "<div>\n",
       "<style scoped>\n",
       "    .dataframe tbody tr th:only-of-type {\n",
       "        vertical-align: middle;\n",
       "    }\n",
       "\n",
       "    .dataframe tbody tr th {\n",
       "        vertical-align: top;\n",
       "    }\n",
       "\n",
       "    .dataframe thead th {\n",
       "        text-align: right;\n",
       "    }\n",
       "</style>\n",
       "<table border=\"1\" class=\"dataframe\">\n",
       "  <thead>\n",
       "    <tr style=\"text-align: right;\">\n",
       "      <th></th>\n",
       "      <th>client_type</th>\n",
       "      <th>quantity</th>\n",
       "      <th>unit_price</th>\n",
       "      <th>total</th>\n",
       "    </tr>\n",
       "  </thead>\n",
       "  <tbody>\n",
       "    <tr>\n",
       "      <th>0</th>\n",
       "      <td>Retail</td>\n",
       "      <td>5.438710</td>\n",
       "      <td>30.286852</td>\n",
       "      <td>167.058929</td>\n",
       "    </tr>\n",
       "    <tr>\n",
       "      <th>1</th>\n",
       "      <td>Wholesale</td>\n",
       "      <td>23.022222</td>\n",
       "      <td>30.443244</td>\n",
       "      <td>709.521467</td>\n",
       "    </tr>\n",
       "  </tbody>\n",
       "</table>\n",
       "</div>"
      ],
      "text/plain": [
       "  client_type   quantity  unit_price       total\n",
       "0      Retail   5.438710   30.286852  167.058929\n",
       "1   Wholesale  23.022222   30.443244  709.521467"
      ]
     },
     "execution_count": 38,
     "metadata": {},
     "output_type": "execute_result"
    }
   ],
   "source": [
    "#Question 4i - Average purchase value by client type\n",
    "APVCT = salesdata.groupby('client_type', as_index=False).mean('total')\n",
    "APVCT"
   ]
  },
  {
   "cell_type": "code",
   "execution_count": null,
   "metadata": {
    "colab": {
     "base_uri": "https://localhost:8080/",
     "height": 298
    },
    "id": "JZM75s8ZHWkT",
    "outputId": "4e6a5b7e-7366-49a9-abf1-fe9e5e1da2cb"
   },
   "outputs": [
    {
     "data": {
      "image/png": "[encoded data removed]",
      "text/plain": [
       "<Figure size 432x288 with 1 Axes>"
      ]
     },
     "metadata": {},
     "output_type": "display_data"
    }
   ],
   "source": [
    "#Plot for Question 4i\n",
    "sns.barplot(data = APVCT, x='client_type', y='total', palette='winter')\n",
    "plt.xlabel('Client_Type', size=12, fontweight = 'bold')\n",
    "plt.ylabel('Total', size=12, fontweight = 'bold')\n",
    "plt.title('Average Purchase Value by Client Type', size=12, fontweight = 'bold')\n",
    "plt.show()"
   ]
  },
  {
   "cell_type": "code",
   "execution_count": 43,
   "metadata": {},
   "outputs": [
    {
     "data": {
      "image/png": "[encoded data removed]",
      "text/plain": [
       "<Figure size 700x400 with 1 Axes>"
      ]
     },
     "metadata": {},
     "output_type": "display_data"
    }
   ],
   "source": [
    "fig = plt.figure(figsize =(7, 4))\n",
    "myexplode = (0,0)\n",
    "Client_type = ['Retail', 'Wholesale']\n",
    "X = [167, 710]\n",
    "plt.pie(X, labels = Client_type, explode = myexplode, autopct='%1.2f%%')\n",
    "plt.title('Average Purchase Value by Client Type', size=12, fontweight = 'bold')\n",
    "plt.show()"
   ]
  },
  {
   "cell_type": "code",
   "execution_count": 44,
   "metadata": {
    "colab": {
     "base_uri": "https://localhost:8080/",
     "height": 238
    },
    "id": "z1idc03hI1CQ",
    "outputId": "adc2fc42-62e6-4b5b-ec65-c5e45bf26422"
   },
   "outputs": [
    {
     "data": {
      "text/html": [
       "<div>\n",
       "<style scoped>\n",
       "    .dataframe tbody tr th:only-of-type {\n",
       "        vertical-align: middle;\n",
       "    }\n",
       "\n",
       "    .dataframe tbody tr th {\n",
       "        vertical-align: top;\n",
       "    }\n",
       "\n",
       "    .dataframe thead th {\n",
       "        text-align: right;\n",
       "    }\n",
       "</style>\n",
       "<table border=\"1\" class=\"dataframe\">\n",
       "  <thead>\n",
       "    <tr style=\"text-align: right;\">\n",
       "      <th></th>\n",
       "      <th>product_line</th>\n",
       "      <th>quantity</th>\n",
       "      <th>unit_price</th>\n",
       "      <th>total</th>\n",
       "    </tr>\n",
       "  </thead>\n",
       "  <tbody>\n",
       "    <tr>\n",
       "      <th>0</th>\n",
       "      <td>Breaking system</td>\n",
       "      <td>2130</td>\n",
       "      <td>4080.32</td>\n",
       "      <td>38350.15</td>\n",
       "    </tr>\n",
       "    <tr>\n",
       "      <th>1</th>\n",
       "      <td>Electrical system</td>\n",
       "      <td>1698</td>\n",
       "      <td>4937.93</td>\n",
       "      <td>43612.71</td>\n",
       "    </tr>\n",
       "    <tr>\n",
       "      <th>2</th>\n",
       "      <td>Engine</td>\n",
       "      <td>627</td>\n",
       "      <td>3665.60</td>\n",
       "      <td>37945.38</td>\n",
       "    </tr>\n",
       "    <tr>\n",
       "      <th>3</th>\n",
       "      <td>Frame &amp; body</td>\n",
       "      <td>1619</td>\n",
       "      <td>7110.15</td>\n",
       "      <td>69024.73</td>\n",
       "    </tr>\n",
       "    <tr>\n",
       "      <th>4</th>\n",
       "      <td>Miscellaneous</td>\n",
       "      <td>1176</td>\n",
       "      <td>2782.91</td>\n",
       "      <td>27165.82</td>\n",
       "    </tr>\n",
       "    <tr>\n",
       "      <th>5</th>\n",
       "      <td>Suspension &amp; traction</td>\n",
       "      <td>2145</td>\n",
       "      <td>7745.13</td>\n",
       "      <td>73014.21</td>\n",
       "    </tr>\n",
       "  </tbody>\n",
       "</table>\n",
       "</div>"
      ],
      "text/plain": [
       "            product_line  quantity  unit_price     total\n",
       "0        Breaking system      2130     4080.32  38350.15\n",
       "1      Electrical system      1698     4937.93  43612.71\n",
       "2                 Engine       627     3665.60  37945.38\n",
       "3           Frame & body      1619     7110.15  69024.73\n",
       "4          Miscellaneous      1176     2782.91  27165.82\n",
       "5  Suspension & traction      2145     7745.13  73014.21"
      ]
     },
     "execution_count": 44,
     "metadata": {},
     "output_type": "execute_result"
    }
   ],
   "source": [
    "#Question 4ii - Total purchase value by product line\n",
    "TPVPI = salesdata.groupby('product_line', as_index=False).sum('total')\n",
    "TPVPI"
   ]
  },
  {
   "cell_type": "code",
   "execution_count": 45,
   "metadata": {
    "colab": {
     "base_uri": "https://localhost:8080/",
     "height": 373
    },
    "id": "44iWkvcFNTaG",
    "outputId": "c71f5ee4-8f2b-4446-c52b-1647a629d725"
   },
   "outputs": [
    {
     "data": {
      "image/png": "[encoded data removed]",
      "text/plain": [
       "<Figure size 640x480 with 1 Axes>"
      ]
     },
     "metadata": {},
     "output_type": "display_data"
    }
   ],
   "source": [
    "#Plot to visualize above data\n",
    "p = sns.barplot(data = TPVPI.sort_values('total', ascending=False), x='product_line', y='total', palette='rainbow')\n",
    "plt.xlabel('Product_Line', size=12)\n",
    "plt.ylabel('Total', size=12)\n",
    "plt.title('Total Purchase Value by Product Line', size=12)\n",
    "p.set_xticklabels(p.get_xticklabels(), rotation = -45)\n",
    "plt.show()"
   ]
  },
  {
   "cell_type": "code",
   "execution_count": 46,
   "metadata": {
    "colab": {
     "base_uri": "https://localhost:8080/",
     "height": 143
    },
    "id": "cGNhGTY1Jmhr",
    "outputId": "30b66a48-dd10-4803-dd3b-27b8a1ad0d1d"
   },
   "outputs": [
    {
     "data": {
      "text/html": [
       "<div>\n",
       "<style scoped>\n",
       "    .dataframe tbody tr th:only-of-type {\n",
       "        vertical-align: middle;\n",
       "    }\n",
       "\n",
       "    .dataframe tbody tr th {\n",
       "        vertical-align: top;\n",
       "    }\n",
       "\n",
       "    .dataframe thead th {\n",
       "        text-align: right;\n",
       "    }\n",
       "</style>\n",
       "<table border=\"1\" class=\"dataframe\">\n",
       "  <thead>\n",
       "    <tr style=\"text-align: right;\">\n",
       "      <th></th>\n",
       "      <th>payment</th>\n",
       "      <th>date</th>\n",
       "      <th>warehouse</th>\n",
       "      <th>client_type</th>\n",
       "      <th>product_line</th>\n",
       "      <th>quantity</th>\n",
       "      <th>unit_price</th>\n",
       "      <th>total</th>\n",
       "    </tr>\n",
       "  </thead>\n",
       "  <tbody>\n",
       "    <tr>\n",
       "      <th>0</th>\n",
       "      <td>Cash</td>\n",
       "      <td>116</td>\n",
       "      <td>116</td>\n",
       "      <td>116</td>\n",
       "      <td>116</td>\n",
       "      <td>116</td>\n",
       "      <td>116</td>\n",
       "      <td>116</td>\n",
       "    </tr>\n",
       "    <tr>\n",
       "      <th>1</th>\n",
       "      <td>Credit card</td>\n",
       "      <td>659</td>\n",
       "      <td>659</td>\n",
       "      <td>659</td>\n",
       "      <td>659</td>\n",
       "      <td>659</td>\n",
       "      <td>659</td>\n",
       "      <td>659</td>\n",
       "    </tr>\n",
       "    <tr>\n",
       "      <th>2</th>\n",
       "      <td>Transfer</td>\n",
       "      <td>225</td>\n",
       "      <td>225</td>\n",
       "      <td>225</td>\n",
       "      <td>225</td>\n",
       "      <td>225</td>\n",
       "      <td>225</td>\n",
       "      <td>225</td>\n",
       "    </tr>\n",
       "  </tbody>\n",
       "</table>\n",
       "</div>"
      ],
      "text/plain": [
       "       payment  date  warehouse  client_type  product_line  quantity  \\\n",
       "0         Cash   116        116          116           116       116   \n",
       "1  Credit card   659        659          659           659       659   \n",
       "2     Transfer   225        225          225           225       225   \n",
       "\n",
       "   unit_price  total  \n",
       "0         116    116  \n",
       "1         659    659  \n",
       "2         225    225  "
      ]
     },
     "execution_count": 46,
     "metadata": {},
     "output_type": "execute_result"
    }
   ],
   "source": [
    "#Other Insights - i: Most used payment type\n",
    "MUPT = salesdata.groupby('payment', as_index=False).count()\n",
    "MUPT"
   ]
  },
  {
   "cell_type": "code",
   "execution_count": 47,
   "metadata": {
    "colab": {
     "base_uri": "https://localhost:8080/",
     "height": 298
    },
    "id": "nw7GpoN7KWnr",
    "outputId": "6aa00a26-97ce-473f-c25e-915763f29e72"
   },
   "outputs": [
    {
     "data": {
      "image/png": "[encoded data removed]",
      "text/plain": [
       "<Figure size 640x480 with 1 Axes>"
      ]
     },
     "metadata": {},
     "output_type": "display_data"
    }
   ],
   "source": [
    "#Plot to visualize above data\n",
    "sns.barplot(data = MUPT.sort_values('total', ascending=False), x='payment', y='total', palette='rainbow')\n",
    "plt.xlabel('Payment Type', size=12)\n",
    "plt.ylabel('Total', size=12)\n",
    "plt.title('Most Used Payment Type', size=12)\n",
    "plt.show()"
   ]
  },
  {
   "cell_type": "code",
   "execution_count": 48,
   "metadata": {
    "colab": {
     "base_uri": "https://localhost:8080/",
     "height": 143
    },
    "id": "5Q8Ba_97LaOq",
    "outputId": "72ae5d96-426f-438f-e78a-8d2aebd0a0b9"
   },
   "outputs": [
    {
     "data": {
      "text/html": [
       "<div>\n",
       "<style scoped>\n",
       "    .dataframe tbody tr th:only-of-type {\n",
       "        vertical-align: middle;\n",
       "    }\n",
       "\n",
       "    .dataframe tbody tr th {\n",
       "        vertical-align: top;\n",
       "    }\n",
       "\n",
       "    .dataframe thead th {\n",
       "        text-align: right;\n",
       "    }\n",
       "</style>\n",
       "<table border=\"1\" class=\"dataframe\">\n",
       "  <thead>\n",
       "    <tr style=\"text-align: right;\">\n",
       "      <th></th>\n",
       "      <th>warehouse</th>\n",
       "      <th>date</th>\n",
       "      <th>client_type</th>\n",
       "      <th>product_line</th>\n",
       "      <th>quantity</th>\n",
       "      <th>unit_price</th>\n",
       "      <th>total</th>\n",
       "      <th>payment</th>\n",
       "    </tr>\n",
       "  </thead>\n",
       "  <tbody>\n",
       "    <tr>\n",
       "      <th>0</th>\n",
       "      <td>Central</td>\n",
       "      <td>480</td>\n",
       "      <td>480</td>\n",
       "      <td>480</td>\n",
       "      <td>480</td>\n",
       "      <td>480</td>\n",
       "      <td>480</td>\n",
       "      <td>480</td>\n",
       "    </tr>\n",
       "    <tr>\n",
       "      <th>1</th>\n",
       "      <td>North</td>\n",
       "      <td>340</td>\n",
       "      <td>340</td>\n",
       "      <td>340</td>\n",
       "      <td>340</td>\n",
       "      <td>340</td>\n",
       "      <td>340</td>\n",
       "      <td>340</td>\n",
       "    </tr>\n",
       "    <tr>\n",
       "      <th>2</th>\n",
       "      <td>West</td>\n",
       "      <td>180</td>\n",
       "      <td>180</td>\n",
       "      <td>180</td>\n",
       "      <td>180</td>\n",
       "      <td>180</td>\n",
       "      <td>180</td>\n",
       "      <td>180</td>\n",
       "    </tr>\n",
       "  </tbody>\n",
       "</table>\n",
       "</div>"
      ],
      "text/plain": [
       "  warehouse  date  client_type  product_line  quantity  unit_price  total  \\\n",
       "0   Central   480          480           480       480         480    480   \n",
       "1     North   340          340           340       340         340    340   \n",
       "2      West   180          180           180       180         180    180   \n",
       "\n",
       "   payment  \n",
       "0      480  \n",
       "1      340  \n",
       "2      180  "
      ]
     },
     "execution_count": 48,
     "metadata": {},
     "output_type": "execute_result"
    }
   ],
   "source": [
    "#Most Used Warehouse\n",
    "MUW = salesdata.groupby('warehouse', as_index=False).count()\n",
    "MUW"
   ]
  },
  {
   "cell_type": "code",
   "execution_count": 49,
   "metadata": {
    "colab": {
     "base_uri": "https://localhost:8080/",
     "height": 298
    },
    "id": "mcA2CDy8L1LL",
    "outputId": "c525c26d-325a-490b-9a97-725892176cef"
   },
   "outputs": [
    {
     "data": {
      "image/png": "[encoded data removed]",
      "text/plain": [
       "<Figure size 640x480 with 1 Axes>"
      ]
     },
     "metadata": {},
     "output_type": "display_data"
    }
   ],
   "source": [
    "#Plot to visualize above\n",
    "sns.barplot(data = MUW.sort_values('total', ascending=False), x='warehouse', y='total', palette='winter')\n",
    "plt.xlabel('Warehouse', size=12)\n",
    "plt.ylabel('Total', size=12)\n",
    "plt.title('Most Used Warehouse', size=12)\n",
    "plt.show()"
   ]
  },
  {
   "cell_type": "code",
   "execution_count": 54,
   "metadata": {},
   "outputs": [
    {
     "data": {
      "text/plain": [
       "0      6\n",
       "1      6\n",
       "2      6\n",
       "3      6\n",
       "4      6\n",
       "      ..\n",
       "995    8\n",
       "996    8\n",
       "997    8\n",
       "998    8\n",
       "999    8\n",
       "Name: Month, Length: 1000, dtype: int64"
      ]
     },
     "execution_count": 54,
     "metadata": {},
     "output_type": "execute_result"
    }
   ],
   "source": [
    "#Extracting the month from the date column\n",
    "salesdata['Month'] = salesdata['date'].dt.month\n",
    "salesdata['Month']"
   ]
  },
  {
   "cell_type": "code",
   "execution_count": 55,
   "metadata": {},
   "outputs": [
    {
     "data": {
      "text/plain": [
       "array([6, 7, 8], dtype=int64)"
      ]
     },
     "execution_count": 55,
     "metadata": {},
     "output_type": "execute_result"
    }
   ],
   "source": [
    "salesdata['Month'].unique()"
   ]
  },
  {
   "cell_type": "code",
   "execution_count": 57,
   "metadata": {},
   "outputs": [
    {
     "data": {
      "text/html": [
       "<div>\n",
       "<style scoped>\n",
       "    .dataframe tbody tr th:only-of-type {\n",
       "        vertical-align: middle;\n",
       "    }\n",
       "\n",
       "    .dataframe tbody tr th {\n",
       "        vertical-align: top;\n",
       "    }\n",
       "\n",
       "    .dataframe thead th {\n",
       "        text-align: right;\n",
       "    }\n",
       "</style>\n",
       "<table border=\"1\" class=\"dataframe\">\n",
       "  <thead>\n",
       "    <tr style=\"text-align: right;\">\n",
       "      <th></th>\n",
       "      <th>date</th>\n",
       "      <th>warehouse</th>\n",
       "      <th>client_type</th>\n",
       "      <th>product_line</th>\n",
       "      <th>quantity</th>\n",
       "      <th>unit_price</th>\n",
       "      <th>total</th>\n",
       "      <th>payment</th>\n",
       "      <th>Month</th>\n",
       "    </tr>\n",
       "  </thead>\n",
       "  <tbody>\n",
       "    <tr>\n",
       "      <th>0</th>\n",
       "      <td>2021-06-01</td>\n",
       "      <td>Central</td>\n",
       "      <td>Retail</td>\n",
       "      <td>Miscellaneous</td>\n",
       "      <td>8</td>\n",
       "      <td>16.85</td>\n",
       "      <td>134.83</td>\n",
       "      <td>Credit card</td>\n",
       "      <td>6</td>\n",
       "    </tr>\n",
       "    <tr>\n",
       "      <th>1</th>\n",
       "      <td>2021-06-01</td>\n",
       "      <td>North</td>\n",
       "      <td>Retail</td>\n",
       "      <td>Breaking system</td>\n",
       "      <td>9</td>\n",
       "      <td>19.29</td>\n",
       "      <td>173.61</td>\n",
       "      <td>Cash</td>\n",
       "      <td>6</td>\n",
       "    </tr>\n",
       "    <tr>\n",
       "      <th>2</th>\n",
       "      <td>2021-06-01</td>\n",
       "      <td>North</td>\n",
       "      <td>Retail</td>\n",
       "      <td>Suspension &amp; traction</td>\n",
       "      <td>8</td>\n",
       "      <td>32.93</td>\n",
       "      <td>263.45</td>\n",
       "      <td>Credit card</td>\n",
       "      <td>6</td>\n",
       "    </tr>\n",
       "    <tr>\n",
       "      <th>3</th>\n",
       "      <td>2021-06-01</td>\n",
       "      <td>North</td>\n",
       "      <td>Wholesale</td>\n",
       "      <td>Frame &amp; body</td>\n",
       "      <td>16</td>\n",
       "      <td>37.84</td>\n",
       "      <td>605.44</td>\n",
       "      <td>Transfer</td>\n",
       "      <td>6</td>\n",
       "    </tr>\n",
       "    <tr>\n",
       "      <th>4</th>\n",
       "      <td>2021-06-01</td>\n",
       "      <td>Central</td>\n",
       "      <td>Retail</td>\n",
       "      <td>Engine</td>\n",
       "      <td>2</td>\n",
       "      <td>60.48</td>\n",
       "      <td>120.96</td>\n",
       "      <td>Credit card</td>\n",
       "      <td>6</td>\n",
       "    </tr>\n",
       "    <tr>\n",
       "      <th>...</th>\n",
       "      <td>...</td>\n",
       "      <td>...</td>\n",
       "      <td>...</td>\n",
       "      <td>...</td>\n",
       "      <td>...</td>\n",
       "      <td>...</td>\n",
       "      <td>...</td>\n",
       "      <td>...</td>\n",
       "      <td>...</td>\n",
       "    </tr>\n",
       "    <tr>\n",
       "      <th>995</th>\n",
       "      <td>2021-08-28</td>\n",
       "      <td>Central</td>\n",
       "      <td>Retail</td>\n",
       "      <td>Electrical system</td>\n",
       "      <td>9</td>\n",
       "      <td>32.87</td>\n",
       "      <td>295.83</td>\n",
       "      <td>Credit card</td>\n",
       "      <td>8</td>\n",
       "    </tr>\n",
       "    <tr>\n",
       "      <th>996</th>\n",
       "      <td>2021-08-28</td>\n",
       "      <td>West</td>\n",
       "      <td>Wholesale</td>\n",
       "      <td>Breaking system</td>\n",
       "      <td>32</td>\n",
       "      <td>10.03</td>\n",
       "      <td>320.96</td>\n",
       "      <td>Transfer</td>\n",
       "      <td>8</td>\n",
       "    </tr>\n",
       "    <tr>\n",
       "      <th>997</th>\n",
       "      <td>2021-08-28</td>\n",
       "      <td>West</td>\n",
       "      <td>Wholesale</td>\n",
       "      <td>Electrical system</td>\n",
       "      <td>12</td>\n",
       "      <td>32.80</td>\n",
       "      <td>393.64</td>\n",
       "      <td>Transfer</td>\n",
       "      <td>8</td>\n",
       "    </tr>\n",
       "    <tr>\n",
       "      <th>998</th>\n",
       "      <td>2021-08-28</td>\n",
       "      <td>North</td>\n",
       "      <td>Retail</td>\n",
       "      <td>Frame &amp; body</td>\n",
       "      <td>5</td>\n",
       "      <td>48.25</td>\n",
       "      <td>241.23</td>\n",
       "      <td>Cash</td>\n",
       "      <td>8</td>\n",
       "    </tr>\n",
       "    <tr>\n",
       "      <th>999</th>\n",
       "      <td>2021-08-28</td>\n",
       "      <td>North</td>\n",
       "      <td>Wholesale</td>\n",
       "      <td>Electrical system</td>\n",
       "      <td>20</td>\n",
       "      <td>27.41</td>\n",
       "      <td>548.13</td>\n",
       "      <td>Transfer</td>\n",
       "      <td>8</td>\n",
       "    </tr>\n",
       "  </tbody>\n",
       "</table>\n",
       "<p>1000 rows × 9 columns</p>\n",
       "</div>"
      ],
      "text/plain": [
       "          date warehouse client_type           product_line  quantity  \\\n",
       "0   2021-06-01   Central      Retail          Miscellaneous         8   \n",
       "1   2021-06-01     North      Retail        Breaking system         9   \n",
       "2   2021-06-01     North      Retail  Suspension & traction         8   \n",
       "3   2021-06-01     North   Wholesale           Frame & body        16   \n",
       "4   2021-06-01   Central      Retail                 Engine         2   \n",
       "..         ...       ...         ...                    ...       ...   \n",
       "995 2021-08-28   Central      Retail      Electrical system         9   \n",
       "996 2021-08-28      West   Wholesale        Breaking system        32   \n",
       "997 2021-08-28      West   Wholesale      Electrical system        12   \n",
       "998 2021-08-28     North      Retail           Frame & body         5   \n",
       "999 2021-08-28     North   Wholesale      Electrical system        20   \n",
       "\n",
       "     unit_price   total      payment  Month  \n",
       "0         16.85  134.83  Credit card      6  \n",
       "1         19.29  173.61         Cash      6  \n",
       "2         32.93  263.45  Credit card      6  \n",
       "3         37.84  605.44     Transfer      6  \n",
       "4         60.48  120.96  Credit card      6  \n",
       "..          ...     ...          ...    ...  \n",
       "995       32.87  295.83  Credit card      8  \n",
       "996       10.03  320.96     Transfer      8  \n",
       "997       32.80  393.64     Transfer      8  \n",
       "998       48.25  241.23         Cash      8  \n",
       "999       27.41  548.13     Transfer      8  \n",
       "\n",
       "[1000 rows x 9 columns]"
      ]
     },
     "execution_count": 57,
     "metadata": {},
     "output_type": "execute_result"
    }
   ],
   "source": [
    "salesdata"
   ]
  },
  {
   "cell_type": "code",
   "execution_count": 58,
   "metadata": {},
   "outputs": [
    {
     "data": {
      "text/html": [
       "<div>\n",
       "<style scoped>\n",
       "    .dataframe tbody tr th:only-of-type {\n",
       "        vertical-align: middle;\n",
       "    }\n",
       "\n",
       "    .dataframe tbody tr th {\n",
       "        vertical-align: top;\n",
       "    }\n",
       "\n",
       "    .dataframe thead th {\n",
       "        text-align: right;\n",
       "    }\n",
       "</style>\n",
       "<table border=\"1\" class=\"dataframe\">\n",
       "  <thead>\n",
       "    <tr style=\"text-align: right;\">\n",
       "      <th></th>\n",
       "      <th>Month</th>\n",
       "      <th>quantity</th>\n",
       "      <th>unit_price</th>\n",
       "      <th>total</th>\n",
       "    </tr>\n",
       "  </thead>\n",
       "  <tbody>\n",
       "    <tr>\n",
       "      <th>0</th>\n",
       "      <td>6</td>\n",
       "      <td>3044</td>\n",
       "      <td>10488.45</td>\n",
       "      <td>95320.03</td>\n",
       "    </tr>\n",
       "    <tr>\n",
       "      <th>1</th>\n",
       "      <td>7</td>\n",
       "      <td>3160</td>\n",
       "      <td>10332.91</td>\n",
       "      <td>93547.91</td>\n",
       "    </tr>\n",
       "    <tr>\n",
       "      <th>2</th>\n",
       "      <td>8</td>\n",
       "      <td>3191</td>\n",
       "      <td>9500.68</td>\n",
       "      <td>100245.06</td>\n",
       "    </tr>\n",
       "  </tbody>\n",
       "</table>\n",
       "</div>"
      ],
      "text/plain": [
       "   Month  quantity  unit_price      total\n",
       "0      6      3044    10488.45   95320.03\n",
       "1      7      3160    10332.91   93547.91\n",
       "2      8      3191     9500.68  100245.06"
      ]
     },
     "execution_count": 58,
     "metadata": {},
     "output_type": "execute_result"
    }
   ],
   "source": [
    "#Checking for the month with the highest sales\n",
    "monthly_sales = salesdata.groupby('Month', as_index=False).sum('total')\n",
    "monthly_sales"
   ]
  },
  {
   "cell_type": "code",
   "execution_count": 59,
   "metadata": {},
   "outputs": [
    {
     "data": {
      "image/png": "[encoded data removed]",
      "text/plain": [
       "<Figure size 700x400 with 1 Axes>"
      ]
     },
     "metadata": {},
     "output_type": "display_data"
    }
   ],
   "source": [
    "fig = plt.figure(figsize =(7, 4))\n",
    "myexplode = (0,0,0.1)\n",
    "Payment = ['June', 'July', 'August']\n",
    "Total = [95320.03, 93547.91, 100245.06]\n",
    "plt.pie(Total, labels = Payment, explode = myexplode, autopct='%1.2f%%')\n",
    "plt.title('Total Sales by Month', size=12, fontweight = 'bold')\n",
    "plt.show()"
   ]
  },
  {
   "cell_type": "markdown",
   "metadata": {
    "id": "U-bPMlERMWSx"
   },
   "source": [
    "5. Summary of insights from the data above;\n",
    "\n",
    "- Central warehouse is the most used warehouse and also has the highest total sales. \n",
    "\n",
    "- Creditcard is the most used payment method. However, 'transfer' payment method brought in the highest sales.\n",
    "\n",
    "- Suspension and traction product line had the highest purchases while the engine product line had the least purchases.\n",
    "\n",
    "- The total purchase value of wholesale clients was far greater than that of the retail clients even though sales by retail client were more frequent.\n",
    "\n",
    "- Highest sales of products was recorded in August."
   ]
  }
 ],
 "metadata": {
  "colab": {
   "provenance": []
  },
  "kernelspec": {
   "display_name": "Python 3 (ipykernel)",
   "language": "python",
   "name": "python3"
  },
  "language_info": {
   "codemirror_mode": {
    "name": "ipython",
    "version": 3
   },
   "file_extension": ".py",
   "mimetype": "text/x-python",
   "name": "python",
   "nbconvert_exporter": "python",
   "pygments_lexer": "ipython3",
   "version": "3.9.13"
  }
 },
 "nbformat": 4,
 "nbformat_minor": 1
}
